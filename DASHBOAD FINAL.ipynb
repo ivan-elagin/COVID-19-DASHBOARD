{
 "cells": [
  {
   "cell_type": "markdown",
   "metadata": {
    "tags": []
   },
   "source": [
    "# DIY Covid-19 Dashboard"
   ]
  },
  {
   "cell_type": "markdown",
   "metadata": {
    "tags": []
   },
   "source": [
    "I began building my COVID-19 dashboard by importing the necessary libraries for my dashboard to work and display interactive features. Here the ipywidgets library is used to create the interactive interface, pandas is used for analysng the data imported from PHE, matplotlib is used to plot this data on a graph, json is used to store initial data from PHE, while datetime and timedelta are used to provide a timeframe selection tool for the dashboard."
   ]
  },
  {
   "cell_type": "code",
   "execution_count": null,
   "metadata": {},
   "outputs": [],
   "source": [
    "from IPython.display import clear_output\n",
    "from IPython.display import display\n",
    "import ipywidgets as wdg\n",
    "import pandas as pd\n",
    "import matplotlib.pyplot as plt\n",
    "import json\n",
    "from uk_covid19 import Cov19API\n",
    "from datetime import datetime, timedelta"
   ]
  },
  {
   "cell_type": "code",
   "execution_count": null,
   "metadata": {},
   "outputs": [],
   "source": [
    "%matplotlib inline\n",
    "# making figures larger\n",
    "plt.rcParams['figure.dpi'] = 100"
   ]
  },
  {
   "cell_type": "markdown",
   "metadata": {
    "tags": []
   },
   "source": [
    "## Load initial data from disk\n",
    "\n",
    "The followig function loads the json file, containing the initial data. This data is used to display default values, when the dashboard is loaded."
   ]
  },
  {
   "cell_type": "code",
   "execution_count": null,
   "metadata": {},
   "outputs": [],
   "source": [
    "# Loading JSON files and storing the raw data in a variable\n",
    "def load_initial_data_file():\n",
    "    initialdata = \"initialdata.json\"\n",
    "    with open(initialdata, \"rt\") as INFILE:\n",
    "        return json.load(INFILE)[\"data\"]"
   ]
  },
  {
   "cell_type": "markdown",
   "metadata": {},
   "source": [
    "## Wrangle the data\n",
    "\n",
    "The dashboard should contain the logic to wrangle the raw data into a ```DataFrame``` (or more than one, as required) that will be used for plotting. The wrangling code should be put into a function and called on the data from the JSON file (we'll need to call it again on any data downloaded from the API).  In this template, we just pretend we are wrangling ```rawdata``` and instead generate a dataframe with some random data"
   ]
  },
  {
   "cell_type": "code",
   "execution_count": null,
   "metadata": {},
   "outputs": [],
   "source": [
    "def wrangle_data(rawdata):\n",
    "    df = pd.DataFrame(rawdata)\n",
    "    # Converting the date column to datetime objects, useful for sorting dates and manipulating the dataseries. This is needed as the initial data is strings.\n",
    "    df[\"date\"] = pd.to_datetime(df[\"date\"])\n",
    "    # Sorting the values in the dataframe by date\n",
    "    # inplace=True, replaces the old dataframe with the updated one\n",
    "    df.sort_values(by=\"date\", inplace=True)\n",
    "    return df\n",
    "\n",
    "initial_data = load_initial_data_file()\n",
    "# Wrangling the new data - sorting the data by date and converting it to a datetime object\n",
    "df = wrangle_data(initial_data)"
   ]
  },
  {
   "cell_type": "markdown",
   "metadata": {},
   "source": [
    "## Downloading current data and creating a 'Refresh' button"
   ]
  },
  {
   "cell_type": "markdown",
   "metadata": {},
   "source": [
    "The following code downloads the custom data from the PHE API and creates a button, which forces ipywidgets to redraw the graph, when the user presses the 'Refresh' button, or when the user changes the data type he/she wants to analyse. "
   ]
  },
  {
   "cell_type": "code",
   "execution_count": null,
   "metadata": {},
   "outputs": [],
   "source": [
    "def access_api():\n",
    "    filters = [\n",
    "        \"areaType=nation\",\n",
    "        \"areaName=england\"\n",
    "    ]\n",
    "    # Defining the required data types to be fetched from the PHE database\n",
    "    structure = {\n",
    "        \"date\": \"date\",\n",
    "        \"cases\": \"newCasesByPublishDate\",\n",
    "        \"hospitalcases\": \"hospitalCases\",\n",
    "        \"deaths\": \"cumDeaths28DaysByPublishDate\",\n",
    "        \"newtests\": \"newTestsByPublishDate\",\n",
    "        \"newvaccinations\": \"newVaccinesGivenByPublishDate\",\n",
    "        \"newreinfections\": \"newReinfectionsBySpecimenDate\"\n",
    "    }\n",
    "    # Creating an API object \n",
    "    api = Cov19API(filters=filters, structure=structure)\n",
    "    data = api.get_json()\n",
    "    return data"
   ]
  },
  {
   "cell_type": "code",
   "execution_count": null,
   "metadata": {},
   "outputs": [],
   "source": [
    "# Creating the button, naming it and adjustiing the layout\n",
    "def api_button_callback(button):\n",
    "    global df\n",
    "    apidata = access_api()\n",
    "    df = wrangle_data(apidata[\"data\"])\n",
    "    refresh_graph()\n",
    "    apibutton.icon = \"check\"\n",
    "\n",
    "apibutton = wdg.Button(\n",
    "    description=\"Refresh\", \n",
    "    disabled=False,\n",
    "    button_style=\"success\", \n",
    "    tooltip=\"Click to refresh the data\",\n",
    "    icon=\"refresh\",\n",
    "    layout=wdg.Layout(width='auto')\n",
    ")\n",
    "apibutton.on_click(api_button_callback)"
   ]
  },
  {
   "cell_type": "markdown",
   "metadata": {
    "tags": []
   },
   "source": [
    "# Mapping metric names to user friendly names for display and creating dropdown menus\n",
    "\n",
    "In the current setup, the API-fetched metric names are displayed in their original format (in lowercase letters, with no spacing). In order to make the dashboard more professional looking, I will implement a metric_mapping function to change the names displayed.\n",
    "\n",
    "Further, dropdown menus are added to enable the user to select the data types which he/she would like to analyse, as well as a timeframe selector to enable the user to filter the data for 1 day, 1 week, 1 month and 1 year."
   ]
  },
  {
   "cell_type": "code",
   "execution_count": null,
   "metadata": {},
   "outputs": [],
   "source": [
    "# Mapping API metrics to user-readable cvalues\n",
    "metric_mapping = {\n",
    "    \"date\": \"Date\",\n",
    "    \"cases\": \"New Cases\",\n",
    "    \"hospitalcases\": \"Hospital Admissions\",\n",
    "    \"deaths\": \"Deaths\",\n",
    "    \"newtests\": \"New Tests\",\n",
    "    \"newvaccinations\": \"New Vaccinations\",\n",
    "    \"newreinfections\": \"New Reinfections\"\n",
    "}\n",
    "\n",
    "# Timeframe selector\n",
    "timeframe_options = {\n",
    "    \"1 day\": pd.Timedelta(days=1),\n",
    "    \"1 week\": pd.Timedelta(weeks=1),\n",
    "    \"1 month\": pd.Timedelta(days=30),\n",
    "    \"1 year\": pd.Timedelta(days=365),\n",
    "    \"all time\": pd.Timedelta(days=10000)\n",
    "}\n",
    "parameter1_dropdown = wdg.Dropdown(\n",
    "    options=list(metric_mapping.values()), \n",
    "    description=\"Select Data Type 1:\", \n",
    "    value=\"New Cases\"\n",
    ")\n",
    "parameter2_dropdown = wdg.Dropdown(\n",
    "    options=list(metric_mapping.values()), \n",
    "    description=\"Select Data Type 2:\", \n",
    "    value=\"Deaths\"\n",
    ")\n",
    "timeframe_dropdown = wdg.Dropdown(\n",
    "    options=list(timeframe_options.keys()), \n",
    "    description=\"Select Timeframe:\", \n",
    "    value=\"all time\"\n",
    ")\n"
   ]
  },
  {
   "cell_type": "markdown",
   "metadata": {
    "tags": []
   },
   "source": [
    "## Visualising the data\n",
    "\n",
    "The following is implemeented to visualise the data on graph, with two y-axis scales, used for comparing data which has radically different value ranges.\n"
   ]
  },
  {
   "cell_type": "code",
   "execution_count": null,
   "metadata": {},
   "outputs": [],
   "source": [
    "def plot_data(parameter1, parameter2, timeframe):\n",
    "    if not df.empty:\n",
    "        end_date = df[\"date\"].max()\n",
    "        start_date = end_date - timeframe_options[timeframe]\n",
    "        filtered_df = df[(df[\"date\"] >= start_date) & (df[\"date\"] <= end_date)]\n",
    "\n",
    "        param1_col = next(key for key, value in metric_mapping.items() if value == parameter1)\n",
    "        param2_col = next(key for key, value in metric_mapping.items() if value == parameter2)\n",
    "\n",
    "        fig, ax1 = plt.subplots(figsize=(10, 6))\n",
    "\n",
    "        # Plotting the first data type and assinging a color to differentiate the different sides for easier readability\n",
    "        color1 = \"tab:blue\"\n",
    "        ax1.set_xlabel(\"Date\")\n",
    "        ax1.set_ylabel(metric_mapping[param1_col], color=color1)\n",
    "        ax1.plot(filtered_df[\"date\"], filtered_df[param1_col], label=parameter1, color=color1)\n",
    "        ax1.tick_params(axis=\"y\", labelcolor=color1)\n",
    "\n",
    "        # Creating a second y-axis the second data type\n",
    "        # This is used for graphs, where the values of one of the selected data types are significantly different from the other\n",
    "        # For example, if vaccination numbers range, on average from 0 to 100, while the cases count is in the thousands, a separate axis scale is required\n",
    "        ax2 = ax1.twinx()  # instantiate a second axes that shares the same x-axis\n",
    "        color2 = \"tab:red\"\n",
    "        ax2.set_ylabel(metric_mapping[param2_col], color=color2) \n",
    "        ax2.plot(filtered_df[\"date\"], filtered_df[param2_col], label=parameter2, color=color2)\n",
    "        ax2.tick_params(axis=\"y\", labelcolor=color2)\n",
    "\n",
    "        # Adjusting the layout to avoid clipping of the right axis\n",
    "        fig.tight_layout()  \n",
    "        plt.title(\"COVID-19 Data Comparison\")\n",
    "        plt.show()\n",
    "    else:\n",
    "        print(\"Data not available or failed to load.\")\n",
    "\n",
    "\n",
    "    \n",
    "# Refresh graph function which forces ipywidgets to update the graph, when the button is pressed.\n",
    "def refresh_graph():\n",
    "    plot_data(parameter1_dropdown.value, parameter2_dropdown.value)\n",
    "\n",
    "# Creating an interactive output for the graph\n",
    "graph = wdg.interactive_output(plot_data, {\n",
    "    \"parameter1\": parameter1_dropdown, \n",
    "    \"parameter2\": parameter2_dropdown,\n",
    "    \"timeframe\": timeframe_dropdown\n",
    "})"
   ]
  },
  {
   "cell_type": "markdown",
   "metadata": {},
   "source": [
    "## Dashboard with refresh button\n"
   ]
  },
  {
   "cell_type": "code",
   "execution_count": null,
   "metadata": {},
   "outputs": [],
   "source": [
    "def on_param_change(change):\n",
    "    plot_data(parameter1_dropdown.value, parameter2_dropdown.value, timeframe_dropdown.value)\n",
    "\n",
    "def on_param_change(change):\n",
    "    refresh_graph()\n",
    "        \n",
    "parameter2_dropdown.observe(on_param_change, names=\"value\")\n",
    "timeframe_dropdown.observe(on_param_change, names=\"value\")"
   ]
  },
  {
   "cell_type": "code",
   "execution_count": null,
   "metadata": {},
   "outputs": [],
   "source": [
    "display(apibutton)\n",
    "display(wdg.HBox([parameter1_dropdown, parameter2_dropdown, timeframe_dropdown]))\n",
    "display(graph)"
   ]
  },
  {
   "cell_type": "markdown",
   "metadata": {},
   "source": [
    "**Author and Copyright Notice** Based on UK Government [data](https://coronavirus.data.gov.uk/) published by [Public Health England](https://www.gov.uk/government/organisations/public-health-england) and on the [DIY Covid Dashboard Kit](https://github.com/fsmeraldi/diy-covid19dash), Copyright (C) Ivan Elagin, 2023. Released under the [GNU GPLv3.0 or later](https://www.gnu.org/licenses/)."
   ]
  }
 ],
 "metadata": {
  "kernelspec": {
   "display_name": "Python 3 (ipykernel)",
   "language": "python",
   "name": "python3"
  },
  "language_info": {
   "codemirror_mode": {
    "name": "ipython",
    "version": 3
   },
   "file_extension": ".py",
   "mimetype": "text/x-python",
   "name": "python",
   "nbconvert_exporter": "python",
   "pygments_lexer": "ipython3",
   "version": "3.10.12"
  }
 },
 "nbformat": 4,
 "nbformat_minor": 4
}
